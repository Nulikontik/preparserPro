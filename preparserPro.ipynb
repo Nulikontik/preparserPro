{
  "nbformat": 4,
  "nbformat_minor": 0,
  "metadata": {
    "colab": {
      "provenance": [],
      "include_colab_link": true
    },
    "kernelspec": {
      "name": "python3",
      "display_name": "Python 3"
    },
    "language_info": {
      "name": "python"
    }
  },
  "cells": [
    {
      "cell_type": "markdown",
      "metadata": {
        "id": "view-in-github",
        "colab_type": "text"
      },
      "source": [
        "<a href=\"https://colab.research.google.com/github/Nulikontik/preparserPro/blob/main/preparserPro.ipynb\" target=\"_parent\"><img src=\"https://colab.research.google.com/assets/colab-badge.svg\" alt=\"Open In Colab\"/></a>"
      ]
    },
    {
      "cell_type": "code",
      "execution_count": 1,
      "metadata": {
        "id": "hWfob793-1BK"
      },
      "outputs": [],
      "source": [
        "from bs4 import BeautifulSoup"
      ]
    },
    {
      "cell_type": "code",
      "source": [
        "!pip3 install bs4"
      ],
      "metadata": {
        "colab": {
          "base_uri": "https://localhost:8080/"
        },
        "id": "gkPAAOSSACG5",
        "outputId": "42830d66-74c7-48e3-d784-0a5e496c391d"
      },
      "execution_count": 2,
      "outputs": [
        {
          "output_type": "stream",
          "name": "stdout",
          "text": [
            "Collecting bs4\n",
            "  Downloading bs4-0.0.1.tar.gz (1.1 kB)\n",
            "  Preparing metadata (setup.py) ... \u001b[?25l\u001b[?25hdone\n",
            "Requirement already satisfied: beautifulsoup4 in /usr/local/lib/python3.10/dist-packages (from bs4) (4.11.2)\n",
            "Requirement already satisfied: soupsieve>1.2 in /usr/local/lib/python3.10/dist-packages (from beautifulsoup4->bs4) (2.5)\n",
            "Building wheels for collected packages: bs4\n",
            "  Building wheel for bs4 (setup.py) ... \u001b[?25l\u001b[?25hdone\n",
            "  Created wheel for bs4: filename=bs4-0.0.1-py3-none-any.whl size=1257 sha256=c28fec90f5c5059047fdeed70532f60646c15d421f697b548a178fe003e19eef\n",
            "  Stored in directory: /root/.cache/pip/wheels/25/42/45/b773edc52acb16cd2db4cf1a0b47117e2f69bb4eb300ed0e70\n",
            "Successfully built bs4\n",
            "Installing collected packages: bs4\n",
            "Successfully installed bs4-0.0.1\n"
          ]
        }
      ]
    },
    {
      "cell_type": "code",
      "source": [
        "import requests"
      ],
      "metadata": {
        "id": "fcOr9hE0_-nB"
      },
      "execution_count": 3,
      "outputs": []
    },
    {
      "cell_type": "code",
      "source": [
        "import openpyxl"
      ],
      "metadata": {
        "id": "_fChFV1eE1w1"
      },
      "execution_count": 4,
      "outputs": []
    },
    {
      "cell_type": "code",
      "source": [
        "url = 'https://lalafo.kg/osh/zemelnye-uchastki/prodazha-zemli'"
      ],
      "metadata": {
        "id": "UwWAhgRiAKVK"
      },
      "execution_count": 5,
      "outputs": []
    },
    {
      "cell_type": "code",
      "source": [
        "response = requests.get(url)\n",
        "print(response)"
      ],
      "metadata": {
        "colab": {
          "base_uri": "https://localhost:8080/"
        },
        "id": "AhF-rd9QALa6",
        "outputId": "9a901fac-4686-4341-81c4-6f691ded9bb8"
      },
      "execution_count": 6,
      "outputs": [
        {
          "output_type": "stream",
          "name": "stdout",
          "text": [
            "<Response [200]>\n"
          ]
        }
      ]
    },
    {
      "cell_type": "code",
      "source": [
        "!pip install openpyxl\n",
        "!pip install pandas\n",
        "!pip install beautifulsoup4\n",
        "\n",
        "import openpyxl\n",
        "from bs4 import BeautifulSoup\n",
        "import requests\n",
        "import pandas as pd\n",
        "\n",
        "url = 'https://lalafo.kg/osh/zemelnye-uchastki/prodazha-zemli'\n",
        "response = requests.get(url)\n",
        "\n",
        "if response.status_code == 200:\n",
        "    soup = BeautifulSoup(response.content, 'html.parser')\n",
        "    a_tags = soup.find_all('a')\n",
        "    p_tags = soup.find_all('p')\n",
        "\n",
        "    data = []\n",
        "\n",
        "    for a_tag, p_tag in zip(a_tags, p_tags):\n",
        "        title = a_tag.get_text()\n",
        "        price = p_tag.get_text()\n",
        "        data.append({'Title': title, 'Price': price})\n",
        "\n",
        "    # Create a DataFrame from the collected data\n",
        "    df = pd.DataFrame(data)\n",
        "\n",
        "    # Save the DataFrame to an Excel file\n",
        "    df.to_excel('parsed_data.xlsx', index=False)\n",
        "    print(\"Data saved to 'parsed_data.xlsx'.\")\n",
        "else:\n",
        "    print(f\"Failed to retrieve the page. Status code: {response.status_code}\")\n"
      ],
      "metadata": {
        "colab": {
          "base_uri": "https://localhost:8080/"
        },
        "id": "YThSc3T_Kr3j",
        "outputId": "ce090bbf-09db-4b4a-e33a-08dae23a8a0e"
      },
      "execution_count": 7,
      "outputs": [
        {
          "output_type": "stream",
          "name": "stdout",
          "text": [
            "Requirement already satisfied: openpyxl in /usr/local/lib/python3.10/dist-packages (3.1.2)\n",
            "Requirement already satisfied: et-xmlfile in /usr/local/lib/python3.10/dist-packages (from openpyxl) (1.1.0)\n",
            "Requirement already satisfied: pandas in /usr/local/lib/python3.10/dist-packages (1.5.3)\n",
            "Requirement already satisfied: python-dateutil>=2.8.1 in /usr/local/lib/python3.10/dist-packages (from pandas) (2.8.2)\n",
            "Requirement already satisfied: pytz>=2020.1 in /usr/local/lib/python3.10/dist-packages (from pandas) (2023.3.post1)\n",
            "Requirement already satisfied: numpy>=1.21.0 in /usr/local/lib/python3.10/dist-packages (from pandas) (1.23.5)\n",
            "Requirement already satisfied: six>=1.5 in /usr/local/lib/python3.10/dist-packages (from python-dateutil>=2.8.1->pandas) (1.16.0)\n",
            "Requirement already satisfied: beautifulsoup4 in /usr/local/lib/python3.10/dist-packages (4.11.2)\n",
            "Requirement already satisfied: soupsieve>1.2 in /usr/local/lib/python3.10/dist-packages (from beautifulsoup4) (2.5)\n",
            "Data saved to 'parsed_data.xlsx'.\n"
          ]
        }
      ]
    },
    {
      "cell_type": "code",
      "source": [
        "url = 'https://lalafo.kg/osh/zemelnye-uchastki/prodazha-zemli'\n",
        "response = requests.get(url)\n",
        "if response.status_code == 200:\n",
        "    soup = BeautifulSoup(response.content, 'html.parser')\n",
        "    a_tags = soup.find_all('a')\n",
        "    data_links = []\n",
        "    for a_tag in a_tags:\n",
        "        a_href = a_tag.get('href')\n",
        "        if a_href and 'user' not in a_href:\n",
        "            full_link = 'https://lalafo.kg' + a_href\n",
        "            if full_link not in data_links:\n",
        "                data_links.append(full_link)\n",
        "    print(data_links)\n",
        "else:\n",
        "    print(f\"Failed to retrieve the page. Status code: {response.status_code}\")\n"
      ],
      "metadata": {
        "colab": {
          "base_uri": "https://localhost:8080/"
        },
        "id": "k7mM5lJ8_nMN",
        "outputId": "06aafde4-040d-4ade-f9ea-f3743b6c2989"
      },
      "execution_count": 8,
      "outputs": [
        {
          "output_type": "stream",
          "name": "stdout",
          "text": [
            "['https://lalafo.kg/osh/ads/os-saarykara-kulza-rajonuna-id-103257284', 'https://lalafo.kg/osh/ads/srocno-prodaetsa-torg-est-id-53523510', 'https://lalafo.kg/osh/ads/ucastok-satylat-35-sotyh2-komnata-id-103499348', 'https://lalafo.kg/osh/ads/prodau-ucastok-3-sotok-13-prelegausaa-id-83307855', 'https://lalafo.kg/osh/ads/ucastok-satylat-id-54211109', 'https://lalafo.kg/osh/ads/6-sotok-dla-stroitelstva-doma-id-87913358', 'https://lalafo.kg/osh/ads/prodautsa-zemelnye-ucastki-v-gos-ken-id-85052413', 'https://lalafo.kg/osh/ads/glbaar-ke-saj-massivinen-zer-ucastok-satylat-id-51374430', 'https://lalafo.kg/osh/ads/kyzyl-bajrakta-zer-satylat-id-96962199', 'https://lalafo.kg/osh/ads/prodau-zemelnyj-ucastok-6-sotdla-id-69157412', 'https://lalafo.kg/osh/ads/60-sotok-dla-stroitelstva-srocnaa-prodaza-krasnaa-kniga-dogovor-kupli-prodazi-id-63741102', 'https://lalafo.kg/osh/ads/assaloom-alejkumtuugandarkyrgyz-cek-id-57370907', 'https://lalafo.kg/osh/ads/ak-zar-konusunan-zer-tilkesi-satylat-06-sotyh-600000-kemi-bar-id-46502679', 'https://lalafo.kg/osh/ads/6-sotok-dla-stroitelstva-srocnaa-prodaza-krasnaa-kniga-id-86926054', 'https://lalafo.kg/osh/ads/5-sotok-dla-biznesa-sobstvennik-krasnaa-kniga-dogovor-kupli-prodazi-id-45582788', 'https://lalafo.kg/osh/ads/iskaban-ajylynan-zer-satylat-6-sot-suu-svet-bar-saardan-2-km-id-86184366', 'https://lalafo.kg/osh/ads/11-sotok-srocnaa-prodaza-krasnaa-kniga-id-99601351', 'https://lalafo.kg/osh/ads/os-saarynan-3km-kyzyl-bajrak-ajylynda-6-id-89894174', 'https://lalafo.kg/osh/ads/12-sotok-dla-stroitelstva-sobstvennik-krasnaa-kniga-id-54676192', 'https://lalafo.kg/osh/ads/5-sotok-dla-stroitelstva-rieltoram-ne-bespokoit-krasnaa-kniga-id-61011091', 'https://lalafo.kg/osh/ads/prodau-zemelnye-ucastki-po-6-sotok-id-67462129', 'https://lalafo.kg/osh/ads/6-sotok-dla-stroitelstva-vozmozen-obmen-krasnaa-kniga-id-73988992', 'https://lalafo.kg/osh/ads/4-sotok-dla-stroitelstva-srocnaa-prodaza-krasnaa-kniga-id-56482331', 'https://lalafo.kg/osh/ads/6-sotok-dla-stroitelstva-srocnaa-prodaza-krasnaa-kniga-id-54592181', 'https://lalafo.kg/osh/ads/ulus-zer-satylat-22-sotok-cena-dogovornaa-id-37977267', 'https://lalafo.kg/osh/ads/5-sotok-dla-stroitelstva-srocnaa-prodaza-krasnaa-kniga-id-96664632', 'https://lalafo.kg/osh/ads/prodau-zemelnyj-ucastok-v-g-id-88316386', 'https://lalafo.kg/osh/ads/bb-id-45927033', 'https://lalafo.kg/osh/ads/6-sotok-dla-stroitelstva-srocnaa-prodaza-krasnaa-kniga-id-80210261', 'https://lalafo.kg/osh/ads/srocno-prodaetsa-zem-ucastok-6-sotok-id-98879991', 'https://lalafo.kg/osh/ads/os-oblastyna-karastuu-kara-suu-id-68600304', 'https://lalafo.kg/osh/ads/os-osaarga-karastu-ken-sajdan-6-sotik-tegiz-zer-satylat-id-98871554', 'https://lalafo.kg/osh/ads/3-sotok-dla-stroitelstva-srocnaa-prodaza-krasnaa-kniga-teh-pasport-id-45099716', 'https://lalafo.kg/osh/ads/esme-ajylynan-6-sotik-zer-satylatkyzyl-kitebi-bar-id-39246714', 'https://lalafo.kg/osh/ads/56-sotok-dla-stroitelstva-srocnaa-prodaza-teh-pasport-id-53818964', 'https://lalafo.kg/osh/ads/3-sotok-dla-stroitelstva-srocnaa-prodaza-krasnaa-kniga-id-54201479', 'https://lalafo.kg/kyrgyzned', 'https://lalafo.kg/osh/ads/srocno-prodau-zemelnyj-ucastok-6-id-66974397', 'https://lalafo.kg/osh/ads/ucastok-satylat-obmen-avto-i-baska-id-61505877', 'https://lalafo.kg/osh/zemelnye-uchastki/prodazha-zemli', 'https://lalafo.kg/osh/zemelnye-uchastki/prodazha-zemli?page=2', 'https://lalafo.kg/osh/zemelnye-uchastki/prodazha-zemli?page=3', 'https://lalafo.kg/osh/zemelnye-uchastki/prodazha-zemli?page=4', 'https://lalafo.kg/osh/zemelnye-uchastki/prodazha-zemli?page=5', 'https://lalafo.kg/osh/zemelnye-uchastki/prodazha-zemli?page=6', 'https://lalafo.kg/', 'https://lalafo.kg/kyrgyzstan', 'https://lalafo.kg/osh', 'https://lalafo.kg/osh/nedvizhimost', 'https://lalafo.kg/osh/zemelnye-uchastki', 'https://lalafo.kg/bishkek/zemelnye-uchastki/prodazha-zemli', 'https://lalafo.kg/ak-dzhol/zemelnye-uchastki/prodazha-zemli', 'https://lalafo.kg/ala-buka/zemelnye-uchastki/prodazha-zemli', 'https://lalafo.kg/ala-too/zemelnye-uchastki/prodazha-zemli', 'https://lalafo.kg/ges-2/zemelnye-uchastki/prodazha-zemli', 'https://lalafo.kg/aleksandrovka/zemelnye-uchastki/prodazha-zemli', 'https://lalafo.kg/almaluu/zemelnye-uchastki/prodazha-zemli', 'https://lalafo.kg/ananyevo/zemelnye-uchastki/prodazha-zemli', 'https://lalafo.kg/aravan/zemelnye-uchastki/prodazha-zemli', 'https://lalafo.kg/arashan/zemelnye-uchastki/prodazha-zemli', 'https://lalafo.kg/archaly/zemelnye-uchastki/prodazha-zemli', 'https://lalafo.kg/at-bashi/zemelnye-uchastki/prodazha-zemli', 'https://lalafo.kg/baet/zemelnye-uchastki/prodazha-zemli', 'https://lalafo.kg/baetov/zemelnye-uchastki/prodazha-zemli', 'https://lalafo.kg/bazar-korgon/zemelnye-uchastki/prodazha-zemli', 'https://lalafo.kg/bajtik/zemelnye-uchastki/prodazha-zemli', 'https://lalafo.kg/bakai-ata/zemelnye-uchastki/prodazha-zemli', 'https://lalafo.kg/baktuu-dolonotu/zemelnye-uchastki/prodazha-zemli', 'https://lalafo.kg/balykchi/zemelnye-uchastki/prodazha-zemli', 'https://lalafo.kg/batken/zemelnye-uchastki/prodazha-zemli', 'https://lalafo.kg/belovodskoe/zemelnye-uchastki/prodazha-zemli', 'https://lalafo.kg/besh-kyungej/zemelnye-uchastki/prodazha-zemli', 'https://lalafo.kg/birdik/zemelnye-uchastki/prodazha-zemli', 'https://lalafo.kg/bokonbaevo/zemelnye-uchastki/prodazha-zemli', 'https://lalafo.kg/bosteri/zemelnye-uchastki/prodazha-zemli', 'https://lalafo.kg/budennovka/zemelnye-uchastki/prodazha-zemli', 'https://lalafo.kg/bulan-sogottu/zemelnye-uchastki/prodazha-zemli', 'https://lalafo.kg/voenno-antonovka/zemelnye-uchastki/prodazha-zemli', 'https://lalafo.kg/gavrilovka/zemelnye-uchastki/prodazha-zemli', 'https://lalafo.kg/gornaya-maevka/zemelnye-uchastki/prodazha-zemli', 'https://lalafo.kg/grigoryevka/zemelnye-uchastki/prodazha-zemli', 'https://lalafo.kg/gulcha/zemelnye-uchastki/prodazha-zemli', 'https://lalafo.kg/ges-5/zemelnye-uchastki/prodazha-zemli', 'https://lalafo.kg/dzhal/zemelnye-uchastki/prodazha-zemli', 'https://lalafo.kg/dzhalal-abad/zemelnye-uchastki/prodazha-zemli', 'https://lalafo.kg/dzhany-dzher/zemelnye-uchastki/prodazha-zemli', 'https://lalafo.kg/dmitrievka/zemelnye-uchastki/prodazha-zemli', 'https://lalafo.kg/zharkynbayev/zemelnye-uchastki/prodazha-zemli', 'https://lalafo.kg/zarechnoe/zemelnye-uchastki/prodazha-zemli', 'https://lalafo.kg/zarya/zemelnye-uchastki/prodazha-zemli', 'https://lalafo.kg/ivanovka/zemelnye-uchastki/prodazha-zemli', 'https://lalafo.kg/isfana/zemelnye-uchastki/prodazha-zemli', 'https://lalafo.kg/ichke-bulun/zemelnye-uchastki/prodazha-zemli', 'https://lalafo.kg/kadamzhai/zemelnye-uchastki/prodazha-zemli', 'https://lalafo.kg/kaji-saiy/zemelnye-uchastki/prodazha-zemli', 'https://lalafo.kg/kaindy/zemelnye-uchastki/prodazha-zemli', 'https://lalafo.kg/kairma/zemelnye-uchastki/prodazha-zemli', 'https://lalafo.kg/kant/zemelnye-uchastki/prodazha-zemli', 'https://lalafo.kg/kanish-kiya/zemelnye-uchastki/prodazha-zemli', 'https://lalafo.kg/kara-balta/zemelnye-uchastki/prodazha-zemli', 'https://lalafo.kg/kara-kuldzha/zemelnye-uchastki/prodazha-zemli', 'https://lalafo.kg/kara-oy/zemelnye-uchastki/prodazha-zemli', 'https://lalafo.kg/kara-suu/zemelnye-uchastki/prodazha-zemli', 'https://lalafo.kg/kara-kul/zemelnye-uchastki/prodazha-zemli', 'https://lalafo.kg/karakol/zemelnye-uchastki/prodazha-zemli', 'https://lalafo.kg/kashat/zemelnye-uchastki/prodazha-zemli', 'https://lalafo.kg/kashka-suu/zemelnye-uchastki/prodazha-zemli', 'https://lalafo.kg/kemin/zemelnye-uchastki/prodazha-zemli', 'https://lalafo.kg/kerben/zemelnye-uchastki/prodazha-zemli', 'https://lalafo.kg/kirovskoe/zemelnye-uchastki/prodazha-zemli', 'https://lalafo.kg/kozhoyar/zemelnye-uchastki/prodazha-zemli', 'https://lalafo.kg/koj-tash/zemelnye-uchastki/prodazha-zemli', 'https://lalafo.kg/kok-dzhar/zemelnye-uchastki/prodazha-zemli', 'https://lalafo.kg/kok-oi/zemelnye-uchastki/prodazha-zemli', 'https://lalafo.kg/konstantinovka/zemelnye-uchastki/prodazha-zemli', 'https://lalafo.kg/korumdu/zemelnye-uchastki/prodazha-zemli', 'https://lalafo.kg/kochkor/zemelnye-uchastki/prodazha-zemli', 'https://lalafo.kg/kochkor-ata/zemelnye-uchastki/prodazha-zemli', 'https://lalafo.kg/krasnaya-rechka/zemelnye-uchastki/prodazha-zemli', 'https://lalafo.kg/kuntuu/zemelnye-uchastki/prodazha-zemli', 'https://lalafo.kg/kyzyl-adyr/zemelnye-uchastki/prodazha-zemli', 'https://lalafo.kg/kyzyl-kiya/zemelnye-uchastki/prodazha-zemli', 'https://lalafo.kg/kyzyl-suu/zemelnye-uchastki/prodazha-zemli', 'https://lalafo.kg/kyzyl-tuu/zemelnye-uchastki/prodazha-zemli', 'https://lalafo.kg/lebedinovka/zemelnye-uchastki/prodazha-zemli', 'https://lalafo.kg/leninskoe/zemelnye-uchastki/prodazha-zemli', 'https://lalafo.kg/lugovoe/zemelnye-uchastki/prodazha-zemli', 'https://lalafo.kg/maevka/zemelnye-uchastki/prodazha-zemli', 'https://lalafo.kg/malovodnoe/zemelnye-uchastki/prodazha-zemli', 'https://lalafo.kg/manas/zemelnye-uchastki/prodazha-zemli', 'https://lalafo.kg/massy/zemelnye-uchastki/prodazha-zemli', 'https://lalafo.kg/milyanfan/zemelnye-uchastki/prodazha-zemli', 'https://lalafo.kg/mihaiylovka/zemelnye-uchastki/prodazha-zemli', 'https://lalafo.kg/mykan/zemelnye-uchastki/prodazha-zemli', 'https://lalafo.kg/naryn/zemelnye-uchastki/prodazha-zemli', 'https://lalafo.kg/nizhnij-norus/zemelnye-uchastki/prodazha-zemli', 'https://lalafo.kg/novonikolaevka/zemelnye-uchastki/prodazha-zemli', 'https://lalafo.kg/novopavlovka/zemelnye-uchastki/prodazha-zemli', 'https://lalafo.kg/novopokrovka/zemelnye-uchastki/prodazha-zemli', 'https://lalafo.kg/nookat/zemelnye-uchastki/prodazha-zemli', 'https://lalafo.kg/norus/zemelnye-uchastki/prodazha-zemli', 'https://lalafo.kg/orlovka/zemelnye-uchastki/prodazha-zemli', 'https://lalafo.kg/orto-oruktu/zemelnye-uchastki/prodazha-zemli', 'https://lalafo.kg/orto-saiy/zemelnye-uchastki/prodazha-zemli', 'https://lalafo.kg/pokrovka/zemelnye-uchastki/prodazha-zemli', 'https://lalafo.kg/poltavka/zemelnye-uchastki/prodazha-zemli', 'https://lalafo.kg/prigorodnoe/zemelnye-uchastki/prodazha-zemli', 'https://lalafo.kg/pulgon/zemelnye-uchastki/prodazha-zemli', 'https://lalafo.kg/razdolnoe/zemelnye-uchastki/prodazha-zemli', 'https://lalafo.kg/sadovoe/zemelnye-uchastki/prodazha-zemli', 'https://lalafo.kg/selektsyonnoe/zemelnye-uchastki/prodazha-zemli', 'https://lalafo.kg/semenovka/zemelnye-uchastki/prodazha-zemli', 'https://lalafo.kg/sokuluk/zemelnye-uchastki/prodazha-zemli', 'https://lalafo.kg/sretenka/zemelnye-uchastki/prodazha-zemli', 'https://lalafo.kg/studencheskoe/zemelnye-uchastki/prodazha-zemli', 'https://lalafo.kg/suzak/zemelnye-uchastki/prodazha-zemli', 'https://lalafo.kg/sulyukta/zemelnye-uchastki/prodazha-zemli', 'https://lalafo.kg/talas/zemelnye-uchastki/prodazha-zemli', 'https://lalafo.kg/tamchy/zemelnye-uchastki/prodazha-zemli', 'https://lalafo.kg/tash-kumyr/zemelnye-uchastki/prodazha-zemli', 'https://lalafo.kg/tash-moiynok/zemelnye-uchastki/prodazha-zemli', 'https://lalafo.kg/temir/zemelnye-uchastki/prodazha-zemli', 'https://lalafo.kg/teploklyuchenka/zemelnye-uchastki/prodazha-zemli', 'https://lalafo.kg/toguz-bulak/zemelnye-uchastki/prodazha-zemli', 'https://lalafo.kg/tokmak/zemelnye-uchastki/prodazha-zemli', 'https://lalafo.kg/toktogul/zemelnye-uchastki/prodazha-zemli', 'https://lalafo.kg/tynchtyk/zemelnye-uchastki/prodazha-zemli', 'https://lalafo.kg/tyup/zemelnye-uchastki/prodazha-zemli', 'https://lalafo.kg/uzgen/zemelnye-uchastki/prodazha-zemli', 'https://lalafo.kg/chaek/zemelnye-uchastki/prodazha-zemli', 'https://lalafo.kg/chaldavar/zemelnye-uchastki/prodazha-zemli', 'https://lalafo.kg/chat-kyol/zemelnye-uchastki/prodazha-zemli', 'https://lalafo.kg/chok-tal/zemelnye-uchastki/prodazha-zemli', 'https://lalafo.kg/cholpon-ata/zemelnye-uchastki/prodazha-zemli', 'https://lalafo.kg/chon-sary-oy/zemelnye-uchastki/prodazha-zemli', 'https://lalafo.kg/chon-aryk/zemelnye-uchastki/prodazha-zemli', 'https://lalafo.kg/chon-daly/zemelnye-uchastki/prodazha-zemli', 'https://lalafo.kg/chon-tash/zemelnye-uchastki/prodazha-zemli', 'https://lalafo.kg/chunkurchak/zemelnye-uchastki/prodazha-zemli', 'https://lalafo.kg/shamaldy-say/zemelnye-uchastki/prodazha-zemli', 'https://lalafo.kg/shevchenko/zemelnye-uchastki/prodazha-zemli', 'https://lalafo.kg/shopokov/zemelnye-uchastki/prodazha-zemli', 'https://lalafo.kg/yurevka/zemelnye-uchastki/prodazha-zemli', 'https://lalafo.kg/pos-dachnyj/zemelnye-uchastki/prodazha-zemli', 'https://lalafo.kg/osh/transport', 'https://lalafo.kg/osh/uslugi', 'https://lalafo.kg/osh/dom-i-sad', 'https://lalafo.kg/osh/elektronika', 'https://lalafo.kg/osh/rabota', 'https://lalafo.kg/osh/lichnye-veshchi', 'https://lalafo.kg/osh/sport-i-khobbi', 'https://lalafo.kg/osh/zhivotnye-2', 'https://lalafo.kg/osh/oborudovanie-dlya-biznesa', 'https://lalafo.kg/osh/detskii-mir-2', 'https://lalafo.kg/osh/medical-supplies', 'https://lalafo.kg/osh/otdykh-na-issyk-kule', 'https://lalafo.kg/osh/otdam-darom', 'https://lalafo.kghttps://lalafo.az', 'https://lalafo.kghttps://lalafo.rs', 'https://lalafo.kghttps://lalafo.gr', 'https://lalafo.kghttps://lalafo.ua', 'https://lalafo.kghttps://lalafo.pl', 'https://lalafo.kghttps://lalafo.kg/osh/zemelnye-uchastki/prodazha-zemli', 'https://lalafo.kghttps://lalafo.kg/ky/osh/zemelnye-uchastki/prodazha-zemli', 'https://lalafo.kghttps://lalafo.kg/sitemap/city/osh', 'https://lalafo.kghttps://lalafo.kg/sitemap']\n"
          ]
        }
      ]
    },
    {
      "cell_type": "code",
      "source": [
        "def extract_description_text(url):\n",
        "    try:\n",
        "        response = requests.get(url)\n",
        "        response.raise_for_status()\n",
        "        soup = BeautifulSoup(response.text, \"html.parser\")\n",
        "\n",
        "        description_wrap = soup.find(\"div\", class_=\"description__wrap\")\n",
        "        prices = soup.find_all(\"span\", class_=\"heading price\")\n",
        "\n",
        "        # Check if there is at least one price associated with the description\n",
        "        if prices:\n",
        "            for price in prices:\n",
        "                print(f\"Price: {price.text}\")\n",
        "\n",
        "            if description_wrap:\n",
        "                p_tags = description_wrap.find_all(\"p\")\n",
        "                description_text = \" \".join([p.text for p in p_tags])\n",
        "                return description_text\n",
        "            else:\n",
        "                return \"Description not found on the page.\"\n",
        "        else:\n",
        "            return \"No price found on the page.\"\n",
        "\n",
        "    except requests.exceptions.RequestException as e:\n",
        "        return f\"Error: {e}\"\n",
        "\n",
        "for link in data_links:\n",
        "    description_text = extract_description_text(link)\n",
        "    if \"No price found on the page.\" not in description_text:\n",
        "        print(f\"Link: {link}\\nDescription: {description_text}\\n\")\n"
      ],
      "metadata": {
        "colab": {
          "base_uri": "https://localhost:8080/"
        },
        "id": "LjJvOu4yIx8Q",
        "outputId": "2c888114-1c4f-42e5-bb3d-8d3285c15c77"
      },
      "execution_count": null,
      "outputs": [
        {
          "output_type": "stream",
          "name": "stdout",
          "text": [
            "Price: 2 679 600KGS\n",
            "Link: https://lalafo.kg/osh/ads/os-saarykara-kulza-rajonuna-id-103257284\n",
            "Description: Ош шаары,Кара-Кулжа районуна караштуу(Октябрь) Терек-Суу айылында 4 чек уйу менен сатылат……\n",
            "\n",
            "Price: 4 466 000KGS\n",
            "Link: https://lalafo.kg/osh/ads/srocno-prodaetsa-torg-est-id-53523510\n",
            "Description: Срочно продается ! Ак тилек(40 гектар) Торг есть Красная книга Разрешение на строительство УгловаяКанализацияСветВодаОбмен с доплатой мне !\n",
            "\n",
            "Price: 2 679 600KGS\n",
            "Link: https://lalafo.kg/osh/ads/ucastok-satylat-35-sotyh2-komnata-id-103499348\n",
            "Description: Участок сатылат 35 сотых,2 комната времянкасы менен.Свет бар короодо суу бар.Бардык документ ордунда.Адрес Москва району Сретинка айылы, крупская 62.(Ориентир Беловодский шлагбаум). Баасы келишим турдо.тел ном .толька  ватсап жазгыла\n",
            "\n",
            "Price: 2 858 240KGS\n",
            "Link: https://lalafo.kg/osh/ads/prodau-ucastok-3-sotok-13-prelegausaa-id-83307855\n",
            "Description: Продаю участок 3 соток +(1.3 Прелегаюшая)Документально чистый.Есть свет, канализация, вода, отопления.Все условия для постройки дома, склада и др. Ориентир: Рынок авто Запчастей Кудайберди.Баня «Чакан-Таш»\n",
            "\n",
            "Price: 1 071 840KGS\n",
            "Link: https://lalafo.kg/osh/ads/kyzyl-bajrakta-zer-satylat-id-96962199\n",
            "Description: Кызыл байракта жер  сатылат\n",
            "\n",
            "Price: 2 233 000KGS\n",
            "Link: https://lalafo.kg/osh/ads/assaloom-alejkumtuugandarkyrgyz-cek-id-57370907\n",
            "Description: Ассалоом алейкум,туугандар!Кара-Суу районунун, Мады айыл окмотунун, Кыргыз-Чек айылынын устундо,Ленин бактан участок(чек)сатылат.6-сотых.тел:+ Вотсап.Баасы 25000 доллар\n",
            "\n",
            "Price: 2 679 600KGS\n",
            "Link: https://lalafo.kg/osh/ads/6-sotok-dla-stroitelstva-srocnaa-prodaza-krasnaa-kniga-id-86926054\n",
            "Description: Жер участогу сатылат 6 сотук, баардык шарты бар газ, суу, свет. Ошто Ишкаван айылдын ичинде.\n",
            "\n",
            "Price: 2 233 000KGS\n",
            "Link: https://lalafo.kg/osh/ads/5-sotok-dla-biznesa-sobstvennik-krasnaa-kniga-dogovor-kupli-prodazi-id-45582788\n",
            "Description: Ош шаарында Жапалак унаа базарынан Араван тарапка карай жүргөн учурда, жолдун сол тарабында (тоо тарапта эмес), эски ПМКнин ичинде 5 сотых жер тилкеси сатылат (факт түрүндө 6 сотыхтан көп), документи таза, кызыл китеби бар (өндүрүрүштүк багытта, жанындагылар турак-жай кылып өзгөртүп алышкан), жер тилкесинин жанында турак үйлөр салынып бүтүп калган, электричество, суу бар, баасы 25 000 АКШ доллары, тел.:,\n",
            "\n",
            "Price: 8 485 400KGS\n",
            "Link: https://lalafo.kg/osh/ads/11-sotok-srocnaa-prodaza-krasnaa-kniga-id-99601351\n",
            "Description: Толойкон айылы\n",
            "\n",
            "Price: 3 126 200KGS\n",
            "Link: https://lalafo.kg/osh/ads/os-saarynan-3km-kyzyl-bajrak-ajylynda-6-id-89894174\n",
            "Description: Ош шаарынан 3км Кызыл Байрак айылында 6 сотых жер тилкеси сатылат баардык шарттары бар\n",
            "\n",
            "Price: 11 611 600KGS\n",
            "Link: https://lalafo.kg/osh/ads/12-sotok-dla-stroitelstva-sobstvennik-krasnaa-kniga-id-54676192\n",
            "Description: Мкр. Ак Тилек. Две участки обяденены 40*30 12 сотых. Близко к центральной дороге, участок находиться на возвышенном поле, панорамный вид на город.\n",
            "\n",
            "Price: 3 215 520KGS\n",
            "Link: https://lalafo.kg/osh/ads/4-sotok-dla-stroitelstva-srocnaa-prodaza-krasnaa-kniga-id-56482331\n",
            "Description: Участок 4сотых 40гектар документ кызыл китеп сразу откозуп берем\n",
            "\n",
            "Price: 1 786 400KGS\n",
            "Link: https://lalafo.kg/osh/ads/srocno-prodaetsa-zem-ucastok-6-sotok-id-98879991\n",
            "Description: Срочно продается зем участок 6 соток. Имеется все документы. Адрес г Ош 218 ориентир авто рынок\n",
            "\n",
            "Price: 3 885 420KGS\n",
            "Link: https://lalafo.kg/osh/ads/3-sotok-dla-stroitelstva-srocnaa-prodaza-krasnaa-kniga-teh-pasport-id-45099716\n",
            "Description: Сатылат Жер Участок3 Сотых Адрес-Араванская1 ЛинияКызыл китепЦена-43 500$\n",
            "\n",
            "Price: 9 378 600KGS\n",
            "Link: https://lalafo.kg/osh/ads/56-sotok-dla-stroitelstva-srocnaa-prodaza-teh-pasport-id-53818964\n",
            "Description: Продаю земельный участок УГЛОВАЯ можно использовать под бизнесАдрес: Актилек 1-я улицаВсе коммуникации естьЦена: 105000$ торг при показе\n",
            "\n",
            "Price: 3 885 420KGS\n",
            "Link: https://lalafo.kg/osh/ads/3-sotok-dla-stroitelstva-srocnaa-prodaza-krasnaa-kniga-id-54201479\n",
            "Description: Сатылат Жер Участок3 Сотых Адрес-Араванская1 ЛинияКызыл китепЦена-43 500$\n",
            "\n"
          ]
        }
      ]
    },
    {
      "cell_type": "code",
      "source": [
        "import openpyxl\n",
        "\n",
        "# Load the existing Excel file (if it exists) or create a new one\n",
        "try:\n",
        "    wb = openpyxl.load_workbook('parsed_data.xlsx')\n",
        "    sheet = wb.active\n",
        "except FileNotFoundError:\n",
        "    wb = openpyxl.Workbook()\n",
        "    sheet = wb.active\n",
        "    sheet.append(['Title', 'Price'])  # Add headers if it's a new file\n",
        "\n",
        "# Assuming that df contains your data in the same format\n",
        "for index, row in df.iterrows():\n",
        "    sheet.append([row['Title'], row['Price']])\n",
        "\n",
        "# Save the data to the Excel file\n",
        "wb.save('parsed_data.xlsx')\n",
        "print(\"Data saved to 'parsed_data.xlsx'.\")\n"
      ],
      "metadata": {
        "id": "jiKbIrftDWRM"
      },
      "execution_count": null,
      "outputs": []
    }
  ]
}